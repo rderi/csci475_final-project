{
  "nbformat": 4,
  "nbformat_minor": 0,
  "metadata": {
    "colab": {
      "provenance": []
    },
    "kernelspec": {
      "name": "python3",
      "display_name": "Python 3"
    },
    "language_info": {
      "name": "python"
    }
  },
  "cells": [
    {
      "cell_type": "code",
      "source": [
        "pip install optuna"
      ],
      "metadata": {
        "colab": {
          "base_uri": "https://localhost:8080/"
        },
        "id": "igkFQhiPHUOU",
        "outputId": "1906897e-b036-4b23-d053-deffc207e60c"
      },
      "execution_count": 6,
      "outputs": [
        {
          "output_type": "stream",
          "name": "stdout",
          "text": [
            "Collecting optuna\n",
            "  Downloading optuna-4.1.0-py3-none-any.whl.metadata (16 kB)\n",
            "Collecting alembic>=1.5.0 (from optuna)\n",
            "  Downloading alembic-1.14.0-py3-none-any.whl.metadata (7.4 kB)\n",
            "Collecting colorlog (from optuna)\n",
            "  Downloading colorlog-6.9.0-py3-none-any.whl.metadata (10 kB)\n",
            "Requirement already satisfied: numpy in /usr/local/lib/python3.10/dist-packages (from optuna) (1.26.4)\n",
            "Requirement already satisfied: packaging>=20.0 in /usr/local/lib/python3.10/dist-packages (from optuna) (24.2)\n",
            "Requirement already satisfied: sqlalchemy>=1.4.2 in /usr/local/lib/python3.10/dist-packages (from optuna) (2.0.36)\n",
            "Requirement already satisfied: tqdm in /usr/local/lib/python3.10/dist-packages (from optuna) (4.66.6)\n",
            "Requirement already satisfied: PyYAML in /usr/local/lib/python3.10/dist-packages (from optuna) (6.0.2)\n",
            "Collecting Mako (from alembic>=1.5.0->optuna)\n",
            "  Downloading Mako-1.3.8-py3-none-any.whl.metadata (2.9 kB)\n",
            "Requirement already satisfied: typing-extensions>=4 in /usr/local/lib/python3.10/dist-packages (from alembic>=1.5.0->optuna) (4.12.2)\n",
            "Requirement already satisfied: greenlet!=0.4.17 in /usr/local/lib/python3.10/dist-packages (from sqlalchemy>=1.4.2->optuna) (3.1.1)\n",
            "Requirement already satisfied: MarkupSafe>=0.9.2 in /usr/local/lib/python3.10/dist-packages (from Mako->alembic>=1.5.0->optuna) (3.0.2)\n",
            "Downloading optuna-4.1.0-py3-none-any.whl (364 kB)\n",
            "\u001b[2K   \u001b[90m━━━━━━━━━━━━━━━━━━━━━━━━━━━━━━━━━━━━━━━━\u001b[0m \u001b[32m364.4/364.4 kB\u001b[0m \u001b[31m7.7 MB/s\u001b[0m eta \u001b[36m0:00:00\u001b[0m\n",
            "\u001b[?25hDownloading alembic-1.14.0-py3-none-any.whl (233 kB)\n",
            "\u001b[2K   \u001b[90m━━━━━━━━━━━━━━━━━━━━━━━━━━━━━━━━━━━━━━━━\u001b[0m \u001b[32m233.5/233.5 kB\u001b[0m \u001b[31m14.1 MB/s\u001b[0m eta \u001b[36m0:00:00\u001b[0m\n",
            "\u001b[?25hDownloading colorlog-6.9.0-py3-none-any.whl (11 kB)\n",
            "Downloading Mako-1.3.8-py3-none-any.whl (78 kB)\n",
            "\u001b[2K   \u001b[90m━━━━━━━━━━━━━━━━━━━━━━━━━━━━━━━━━━━━━━━━\u001b[0m \u001b[32m78.6/78.6 kB\u001b[0m \u001b[31m4.8 MB/s\u001b[0m eta \u001b[36m0:00:00\u001b[0m\n",
            "\u001b[?25hInstalling collected packages: Mako, colorlog, alembic, optuna\n",
            "Successfully installed Mako-1.3.8 alembic-1.14.0 colorlog-6.9.0 optuna-4.1.0\n"
          ]
        }
      ]
    },
    {
      "cell_type": "code",
      "execution_count": 13,
      "metadata": {
        "colab": {
          "base_uri": "https://localhost:8080/"
        },
        "id": "j3nFdJwBFx1-",
        "outputId": "bb86daea-f24e-4b74-c710-d373ed28fb1f"
      },
      "outputs": [
        {
          "output_type": "stream",
          "name": "stdout",
          "text": [
            "Accuracy: 0.75\n",
            "\n",
            "Classification Report:\n",
            "              precision    recall  f1-score   support\n",
            "\n",
            "     Failure       0.71      0.75      0.73        36\n",
            "     Success       0.79      0.75      0.77        44\n",
            "\n",
            "    accuracy                           0.75        80\n",
            "   macro avg       0.75      0.75      0.75        80\n",
            "weighted avg       0.75      0.75      0.75        80\n",
            "\n"
          ]
        },
        {
          "output_type": "stream",
          "name": "stderr",
          "text": [
            "<ipython-input-13-6c39fca80c49>:16: SettingWithCopyWarning: \n",
            "A value is trying to be set on a copy of a slice from a DataFrame.\n",
            "Try using .loc[row_indexer,col_indexer] = value instead\n",
            "\n",
            "See the caveats in the documentation: https://pandas.pydata.org/pandas-docs/stable/user_guide/indexing.html#returning-a-view-versus-a-copy\n",
            "  filtered_data['result_encoded'] = label_encoder.fit_transform(filtered_data['result'])\n"
          ]
        }
      ],
      "source": [
        "import pandas as pd\n",
        "from sklearn.model_selection import train_test_split\n",
        "from sklearn.linear_model import LogisticRegression\n",
        "from sklearn.preprocessing import LabelEncoder\n",
        "from sklearn.metrics import classification_report, accuracy_score\n",
        "\n",
        "# Load the dataset\n",
        "file_path = 'FReD-2024-11-29_cleaned.csv'\n",
        "data = pd.read_csv(file_path)\n",
        "\n",
        "# Filter the dataset to include only \"Failure\" and \"Success\"\n",
        "filtered_data = data[data['result'].isin(['Failure', 'Success'])]\n",
        "\n",
        "# Encode the target variable\n",
        "label_encoder = LabelEncoder()\n",
        "filtered_data['result_encoded'] = label_encoder.fit_transform(filtered_data['result'])\n",
        "\n",
        "# Define features and target variable\n",
        "X_filtered = filtered_data.drop(columns=['result', 'result_encoded'])\n",
        "y_filtered = filtered_data['result_encoded']\n",
        "\n",
        "# Split the data into training and testing sets\n",
        "X_train_f, X_test_f, y_train_f, y_test_f = train_test_split(X_filtered, y_filtered, test_size=0.2, random_state=42)\n",
        "\n",
        "# Train the logistic regression model\n",
        "model_f = LogisticRegression(max_iter=500, random_state=42)\n",
        "model_f.fit(X_train_f, y_train_f)\n",
        "\n",
        "# Make predictions\n",
        "y_pred_f = model_f.predict(X_test_f)\n",
        "\n",
        "# Evaluate the model\n",
        "accuracy_f = accuracy_score(y_test_f, y_pred_f)\n",
        "report_f = classification_report(y_test_f, y_pred_f, target_names=label_encoder.classes_[:2])\n",
        "\n",
        "# Output the results\n",
        "print(f\"Accuracy: {accuracy_f}\\n\")\n",
        "print(\"Classification Report:\")\n",
        "print(report_f)\n"
      ]
    },
    {
      "cell_type": "code",
      "source": [
        "import pandas as pd\n",
        "from sklearn.model_selection import train_test_split, cross_val_score\n",
        "from sklearn.linear_model import LogisticRegression\n",
        "from sklearn.preprocessing import LabelEncoder, StandardScaler\n",
        "from sklearn.metrics import classification_report, accuracy_score\n",
        "\n",
        "# Load the dataset\n",
        "file_path = 'FReD-2024-11-29_cleaned.csv'\n",
        "data = pd.read_csv(file_path)\n",
        "\n",
        "# Filter the dataset to include only \"Failure\" and \"Success\"\n",
        "filtered_data = data[data['result'].isin(['Failure', 'Success'])]\n",
        "\n",
        "# Encode the target variable\n",
        "label_encoder = LabelEncoder()\n",
        "filtered_data['result_encoded'] = label_encoder.fit_transform(filtered_data['result'])\n",
        "\n",
        "# Define features and target variable\n",
        "X_filtered = filtered_data.drop(columns=['result', 'result_encoded'])\n",
        "y_filtered = filtered_data['result_encoded']\n",
        "\n",
        "# Scale the features\n",
        "scaler = StandardScaler()\n",
        "X_scaled = scaler.fit_transform(X_filtered)\n",
        "\n",
        "# Split data into training and testing sets\n",
        "X_train, X_test, y_train, y_test = train_test_split(X_scaled, y_filtered, test_size=0.2, random_state=42)\n",
        "\n",
        "# Train logistic regression models with L1 and L2 regularization\n",
        "l1_model = LogisticRegression(penalty='l1', solver='liblinear', C=1.0, max_iter=500, random_state=42)\n",
        "l2_model = LogisticRegression(penalty='l2', solver='lbfgs', C=1.0, max_iter=500, random_state=42)\n",
        "\n",
        "# Fit the models\n",
        "l1_model.fit(X_train, y_train)\n",
        "l2_model.fit(X_train, y_train)\n",
        "\n",
        "# Evaluate the L1 model\n",
        "y_pred_l1 = l1_model.predict(X_test)\n",
        "accuracy_l1 = accuracy_score(y_test, y_pred_l1)\n",
        "report_l1 = classification_report(y_test, y_pred_l1, target_names=label_encoder.classes_[:2])\n",
        "\n",
        "# Evaluate the L2 model\n",
        "y_pred_l2 = l2_model.predict(X_test)\n",
        "accuracy_l2 = accuracy_score(y_test, y_pred_l2)\n",
        "report_l2 = classification_report(y_test, y_pred_l2, target_names=label_encoder.classes_[:2])\n",
        "\n",
        "# Output the results\n",
        "print(\"L1 Regularization Model:\")\n",
        "print(f\"Accuracy: {accuracy_l1}\\n\")\n",
        "print(\"Classification Report:\")\n",
        "print(report_l1)\n",
        "\n",
        "print(\"L2 Regularization Model:\")\n",
        "print(f\"Accuracy: {accuracy_l2}\\n\")\n",
        "print(\"Classification Report:\")\n",
        "print(report_l2)\n"
      ],
      "metadata": {
        "colab": {
          "base_uri": "https://localhost:8080/"
        },
        "id": "NjN7XJtzIf9P",
        "outputId": "f816ee90-5324-4ca4-eb28-74942ceace11"
      },
      "execution_count": 14,
      "outputs": [
        {
          "output_type": "stream",
          "name": "stdout",
          "text": [
            "L1 Regularization Model:\n",
            "Accuracy: 0.7125\n",
            "\n",
            "Classification Report:\n",
            "              precision    recall  f1-score   support\n",
            "\n",
            "     Failure       0.69      0.67      0.68        36\n",
            "     Success       0.73      0.75      0.74        44\n",
            "\n",
            "    accuracy                           0.71        80\n",
            "   macro avg       0.71      0.71      0.71        80\n",
            "weighted avg       0.71      0.71      0.71        80\n",
            "\n",
            "L2 Regularization Model:\n",
            "Accuracy: 0.7125\n",
            "\n",
            "Classification Report:\n",
            "              precision    recall  f1-score   support\n",
            "\n",
            "     Failure       0.69      0.67      0.68        36\n",
            "     Success       0.73      0.75      0.74        44\n",
            "\n",
            "    accuracy                           0.71        80\n",
            "   macro avg       0.71      0.71      0.71        80\n",
            "weighted avg       0.71      0.71      0.71        80\n",
            "\n"
          ]
        },
        {
          "output_type": "stream",
          "name": "stderr",
          "text": [
            "<ipython-input-14-9f6b380ad3c7>:16: SettingWithCopyWarning: \n",
            "A value is trying to be set on a copy of a slice from a DataFrame.\n",
            "Try using .loc[row_indexer,col_indexer] = value instead\n",
            "\n",
            "See the caveats in the documentation: https://pandas.pydata.org/pandas-docs/stable/user_guide/indexing.html#returning-a-view-versus-a-copy\n",
            "  filtered_data['result_encoded'] = label_encoder.fit_transform(filtered_data['result'])\n"
          ]
        }
      ]
    },
    {
      "cell_type": "code",
      "source": [
        "import seaborn as sns\n",
        "import matplotlib.pyplot as plt\n",
        "from sklearn.metrics import confusion_matrix\n",
        "# Plot confusion matrices for L1 and L2 models\n",
        "fig, axes = plt.subplots(1, 2, figsize=(12, 6))\n",
        "\n",
        "# Confusion matrix for L1 model\n",
        "cm_l1 = confusion_matrix(y_test, y_pred_l1)\n",
        "sns.heatmap(cm_l1, annot=True, fmt='d', cmap='Blues', ax=axes[0], xticklabels=label_encoder.classes_[:2], yticklabels=label_encoder.classes_[:2])\n",
        "axes[0].set_title('L1 Regularization Confusion Matrix')\n",
        "axes[0].set_xlabel('Predicted')\n",
        "axes[0].set_ylabel('Actual')\n",
        "\n",
        "# Confusion matrix for L2 model\n",
        "cm_l2 = confusion_matrix(y_test, y_pred_l2)\n",
        "sns.heatmap(cm_l2, annot=True, fmt='d', cmap='Blues', ax=axes[1], xticklabels=label_encoder.classes_[:2], yticklabels=label_encoder.classes_[:2])\n",
        "axes[1].set_title('L2 Regularization Confusion Matrix')\n",
        "axes[1].set_xlabel('Predicted')\n",
        "axes[1].set_ylabel('Actual')\n",
        "\n",
        "plt.tight_layout()\n",
        "plt.show()"
      ],
      "metadata": {
        "colab": {
          "base_uri": "https://localhost:8080/",
          "height": 607
        },
        "id": "9MKNAWHmJXW2",
        "outputId": "eb126097-e832-424b-822f-ea39137a6c77"
      },
      "execution_count": 16,
      "outputs": [
        {
          "output_type": "display_data",
          "data": {
            "text/plain": [
              "<Figure size 1200x600 with 4 Axes>"
            ],
            "image/png": "[encoded data removed]"
          },
          "metadata": {}
        }
      ]
    }
  ]
}